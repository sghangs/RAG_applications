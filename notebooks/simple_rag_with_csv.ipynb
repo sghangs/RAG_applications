{
 "cells": [
  {
   "cell_type": "markdown",
   "metadata": {},
   "source": [
    "This code implements a basic Retrieval-Augmented Generation (RAG) system for processing and querying CSV documents. The system encodes the document content into a vector store, which can then be queried to retrieve relevant information.\n",
    "\n",
    "The CSV file contains dummy customer data, comprising various attributes like first name, last name, company, etc. This dataset will be utilized for a RAG use case, facilitating the creation of a customer information Q&A system"
   ]
  },
  {
   "cell_type": "code",
   "execution_count": 1,
   "metadata": {},
   "outputs": [],
   "source": [
    "import os\n",
    "import sys\n",
    "from dotenv import load_dotenv\n",
    "load_dotenv()\n",
    "from langchain_groq import ChatGroq\n",
    "from langchain_huggingface import HuggingFaceEmbeddings\n",
    "from langchain_text_splitters import RecursiveCharacterTextSplitter\n",
    "from langchain_community.document_loaders.csv_loader import CSVLoader\n",
    "from langchain.vectorstores import FAISS"
   ]
  },
  {
   "cell_type": "code",
   "execution_count": 3,
   "metadata": {},
   "outputs": [
    {
     "data": {
      "text/html": [
       "<div>\n",
       "<style scoped>\n",
       "    .dataframe tbody tr th:only-of-type {\n",
       "        vertical-align: middle;\n",
       "    }\n",
       "\n",
       "    .dataframe tbody tr th {\n",
       "        vertical-align: top;\n",
       "    }\n",
       "\n",
       "    .dataframe thead th {\n",
       "        text-align: right;\n",
       "    }\n",
       "</style>\n",
       "<table border=\"1\" class=\"dataframe\">\n",
       "  <thead>\n",
       "    <tr style=\"text-align: right;\">\n",
       "      <th></th>\n",
       "      <th>Index</th>\n",
       "      <th>Customer Id</th>\n",
       "      <th>First Name</th>\n",
       "      <th>Last Name</th>\n",
       "      <th>Company</th>\n",
       "      <th>City</th>\n",
       "      <th>Country</th>\n",
       "      <th>Phone 1</th>\n",
       "      <th>Phone 2</th>\n",
       "      <th>Email</th>\n",
       "      <th>Subscription Date</th>\n",
       "      <th>Website</th>\n",
       "    </tr>\n",
       "  </thead>\n",
       "  <tbody>\n",
       "    <tr>\n",
       "      <th>0</th>\n",
       "      <td>1</td>\n",
       "      <td>DD37Cf93aecA6Dc</td>\n",
       "      <td>Sheryl</td>\n",
       "      <td>Baxter</td>\n",
       "      <td>Rasmussen Group</td>\n",
       "      <td>East Leonard</td>\n",
       "      <td>Chile</td>\n",
       "      <td>229.077.5154</td>\n",
       "      <td>397.884.0519x718</td>\n",
       "      <td>zunigavanessa@smith.info</td>\n",
       "      <td>2020-08-24</td>\n",
       "      <td>http://www.stephenson.com/</td>\n",
       "    </tr>\n",
       "    <tr>\n",
       "      <th>1</th>\n",
       "      <td>2</td>\n",
       "      <td>1Ef7b82A4CAAD10</td>\n",
       "      <td>Preston</td>\n",
       "      <td>Lozano</td>\n",
       "      <td>Vega-Gentry</td>\n",
       "      <td>East Jimmychester</td>\n",
       "      <td>Djibouti</td>\n",
       "      <td>5153435776</td>\n",
       "      <td>686-620-1820x944</td>\n",
       "      <td>vmata@colon.com</td>\n",
       "      <td>2021-04-23</td>\n",
       "      <td>http://www.hobbs.com/</td>\n",
       "    </tr>\n",
       "  </tbody>\n",
       "</table>\n",
       "</div>"
      ],
      "text/plain": [
       "   Index      Customer Id First Name Last Name          Company  \\\n",
       "0      1  DD37Cf93aecA6Dc     Sheryl    Baxter  Rasmussen Group   \n",
       "1      2  1Ef7b82A4CAAD10    Preston    Lozano      Vega-Gentry   \n",
       "\n",
       "                City   Country       Phone 1           Phone 2  \\\n",
       "0       East Leonard     Chile  229.077.5154  397.884.0519x718   \n",
       "1  East Jimmychester  Djibouti    5153435776  686-620-1820x944   \n",
       "\n",
       "                      Email Subscription Date                     Website  \n",
       "0  zunigavanessa@smith.info        2020-08-24  http://www.stephenson.com/  \n",
       "1           vmata@colon.com        2021-04-23       http://www.hobbs.com/  "
      ]
     },
     "execution_count": 3,
     "metadata": {},
     "output_type": "execute_result"
    }
   ],
   "source": [
    "#Load csv data\n",
    "file_path=\"data/customers-100.csv\"\n",
    "import pandas as pd\n",
    "data=pd.read_csv(file_path)\n",
    "data.head(2)"
   ]
  },
  {
   "cell_type": "markdown",
   "metadata": {},
   "source": [
    "Indexing"
   ]
  },
  {
   "cell_type": "code",
   "execution_count": 14,
   "metadata": {},
   "outputs": [],
   "source": [
    "## Document loaders\n",
    "loader=CSVLoader(file_path)\n",
    "data=loader.load()"
   ]
  },
  {
   "cell_type": "code",
   "execution_count": 15,
   "metadata": {},
   "outputs": [
    {
     "data": {
      "text/plain": [
       "'Index: 1\\nCustomer Id: DD37Cf93aecA6Dc\\nFirst Name: Sheryl\\nLast Name: Baxter\\nCompany: Rasmussen Group\\nCity: East Leonard\\nCountry: Chile\\nPhone 1: 229.077.5154\\nPhone 2: 397.884.0519x718\\nEmail: zunigavanessa@smith.info\\nSubscription Date: 2020-08-24\\nWebsite: http://www.stephenson.com/'"
      ]
     },
     "execution_count": 15,
     "metadata": {},
     "output_type": "execute_result"
    }
   ],
   "source": [
    "data[0].page_content"
   ]
  },
  {
   "cell_type": "code",
   "execution_count": 16,
   "metadata": {},
   "outputs": [
    {
     "name": "stderr",
     "output_type": "stream",
     "text": [
      "c:\\Users\\sunny\\Desktop\\Langchain_projects\\Q&A_chatbot\\venv\\lib\\site-packages\\tqdm\\auto.py:21: TqdmWarning: IProgress not found. Please update jupyter and ipywidgets. See https://ipywidgets.readthedocs.io/en/stable/user_install.html\n",
      "  from .autonotebook import tqdm as notebook_tqdm\n"
     ]
    }
   ],
   "source": [
    "#Embeddings\n",
    "embeddings=HuggingFaceEmbeddings(model_name=\"all-MiniLM-L6-v2\")"
   ]
  },
  {
   "cell_type": "code",
   "execution_count": 23,
   "metadata": {},
   "outputs": [],
   "source": [
    "#Vectorstore\n",
    "from langchain_community.docstore.in_memory import InMemoryDocstore\n",
    "import faiss\n",
    "index=faiss.IndexFlatL2(len(embeddings.embed_query(\" \")))\n",
    "vector_store=FAISS(\n",
    "    embedding_function=embeddings,\n",
    "    index=index,\n",
    "    docstore=InMemoryDocstore(),\n",
    "    index_to_docstore_id={}\n",
    ")"
   ]
  },
  {
   "cell_type": "code",
   "execution_count": 24,
   "metadata": {},
   "outputs": [
    {
     "data": {
      "text/plain": [
       "['1a5c0716-71ed-417a-bb12-7b12b410c30d',\n",
       " 'c6df4474-187f-42dd-917a-95d34a89d634',\n",
       " '3eda98cb-2a4d-4279-8464-412f8d1e2b16',\n",
       " '59577084-adbd-4f2a-93a8-4975c681cfc3',\n",
       " 'ff3242f9-8a85-4eb1-a2c4-61ecbaae569b',\n",
       " '6f88298f-b1e4-467c-9d92-fe4bd57e98b4',\n",
       " 'f2fdec0b-fa9f-402f-9879-6993d3583111',\n",
       " '85f296b9-9468-4f89-9b24-ee42b02196e6',\n",
       " '46c8997f-b312-4fe4-a585-0fa26cdf8865',\n",
       " '9f847712-61a0-49a5-afee-32d84df79655',\n",
       " 'ec4ebe78-06e2-4446-a77e-eaf47a9be75e',\n",
       " 'b393dc25-dbd1-44b7-9335-8a6d1bcd0e90',\n",
       " 'f5d78139-6c15-46dc-b993-b7d79ede082b',\n",
       " 'df3b6711-fb41-4590-a05b-aa2765993fd5',\n",
       " '67f34c4e-c3a2-45c3-b61c-0012129d1e9b',\n",
       " 'b96ecaf8-c67d-4320-994c-fefa71793246',\n",
       " '63e81946-8cde-497e-9e6e-44ed32479e8e',\n",
       " 'd4e018ed-df50-4d0e-a6da-fb2732c95f4e',\n",
       " 'fa628b66-58aa-4554-a3c7-a119adf0ae81',\n",
       " '8e614acf-6e90-429f-b536-66d638601f4f',\n",
       " 'b2843bbc-fe11-4faa-9415-9571276b5a2e',\n",
       " '7658eca3-88c7-4c0c-9094-fb9fd8f4ac3a',\n",
       " '17494165-f9d2-4a2f-9099-5447c4b35263',\n",
       " 'c66fa184-e121-4789-9598-b5babf393a24',\n",
       " '92717a25-f5fb-44aa-870b-78f25a0304d1',\n",
       " '4319571a-9c03-43f9-b14a-aaa562f3ade5',\n",
       " 'c52a67fe-4b3b-42eb-8360-6990569910f5',\n",
       " '9300fdfc-7975-465e-b897-a7e742c71de5',\n",
       " 'a9894eb5-7a5f-4a47-a5e7-a118539d9569',\n",
       " '030204c4-14dc-4a83-8d3f-d0e38c964d58',\n",
       " '327e271e-3ea4-4dce-b771-cd4b63f384b1',\n",
       " '7a60a69e-fa4f-4bb0-8aeb-9c2b070b0909',\n",
       " 'd1953070-9feb-4172-8439-b348852a18fd',\n",
       " '12b662a1-b878-4917-8575-f984a94c996d',\n",
       " '2dea9e35-acd7-4975-bba6-adf70865b649',\n",
       " '5471ce2d-34e0-4edf-8c68-9d8389f44841',\n",
       " 'fd29e32b-8548-422e-bc8e-5a76ed036585',\n",
       " '47b6035e-f31f-4587-916d-8d4b07eadf08',\n",
       " '605b99b1-3c1e-427c-ac2e-42539ef9b513',\n",
       " 'e2229eda-3ac0-4a69-a156-96215b93ae4f',\n",
       " '547a852b-b8fe-4808-9a45-7da2db78d6f5',\n",
       " '2511cc25-69b1-4e4d-86a2-7f73a05f9275',\n",
       " '8c027557-5232-4c3c-990b-e1254b77f107',\n",
       " '7352313f-e737-4bd3-b478-6b410eb68203',\n",
       " '742be79e-1084-4fcd-8df7-8473a8308c0c',\n",
       " 'aab9077a-0d40-4104-add8-32a8d00ffb89',\n",
       " 'b7479eb2-ebdd-478b-9f32-f6090de2fd7f',\n",
       " 'b124167c-9c1a-4aad-8d13-d5f84cdd5151',\n",
       " '76468037-3f85-45af-9f50-00507004e028',\n",
       " '8ddb84a5-073c-4307-b09b-7749aa432452',\n",
       " '493531ab-f6bd-4c37-a005-475eb87dbf0d',\n",
       " '56df3564-665b-45ff-b5ac-60968921d71e',\n",
       " '4fbbfc51-d7ec-4172-bf13-a0615cfe4892',\n",
       " 'de76c19f-4d70-4dc6-8eb5-853f2d517f36',\n",
       " 'b0b6f516-7ce4-48ef-b9ab-8fc916ca7224',\n",
       " 'aafc7d5c-9859-4e4b-8509-df2ef030a0ba',\n",
       " 'a30cfcca-df78-48ab-b8d5-dc2a841d49e2',\n",
       " 'ab621f3a-4834-487b-8b7d-01e82834943c',\n",
       " '0b771b1f-d555-4a31-98fb-e8d3bb150df5',\n",
       " '6d6a7b8b-5574-4090-9c5a-b94c43a775d9',\n",
       " 'a50b3145-3aa0-4324-84a8-a83741a28425',\n",
       " 'b7c34009-b2e0-4277-a88b-04a645e5bea9',\n",
       " '99d141d8-a7d4-4f4f-b1b0-1a1272dd1247',\n",
       " 'e7999ed9-4799-455b-9e96-a0c2260426a6',\n",
       " '2a7f5bbf-1627-43a8-9a9f-66d225968f17',\n",
       " '1ac69872-6fb7-4d47-b7eb-cf61a8352a84',\n",
       " '478f461d-dbe9-4209-a75c-5f91c14885ed',\n",
       " 'c427c324-0c35-45e4-a0a4-b55c4757b469',\n",
       " '9158a3b4-fa2e-42d0-bc93-539514bffa3c',\n",
       " '572948ee-8c2c-4cf6-a110-98a7635e0554',\n",
       " '84e1fcf4-98b1-4f98-9d3b-89b4a328a22b',\n",
       " '56ea9e9e-c269-483b-8c24-ae18fb37ab3e',\n",
       " '88664150-3ad2-493a-a866-ad112e4e5304',\n",
       " 'eaf386d5-c1c5-4905-b356-a1a00d8d5553',\n",
       " 'd664a8ba-1a8b-434f-a6a9-1b192544ff6a',\n",
       " 'ab41ee92-f952-4f0b-9b99-6b6d2a70398c',\n",
       " '1bb7d532-75c8-4ad6-a623-b73b0c6e4e85',\n",
       " '03b0d4f3-af24-44be-92cf-0ec818015f08',\n",
       " '1a271f97-8c3c-4d18-8202-51b354e01987',\n",
       " '90958a11-3ce5-45c0-a799-40b1c32dc24d',\n",
       " 'b45a7802-397b-4a2b-bc78-6bdb2dc11a9f',\n",
       " '3e31c355-1ee0-4da0-b857-d43dcd1648f2',\n",
       " 'b6956670-0356-461f-8844-02acb3e61d89',\n",
       " '2c6005b6-5f28-4632-938c-b24d618f5d83',\n",
       " '004116d3-1fdc-429f-8601-a0920a4208ae',\n",
       " 'e457c77d-940e-43b9-a63f-c8432964b2eb',\n",
       " '4172712c-8058-4868-be05-96852cf4419e',\n",
       " 'ed836536-9b54-40e0-a4df-85ea86573dab',\n",
       " 'a09f1883-7053-49dd-96b6-81f26ab1b70a',\n",
       " '32100e6a-0e46-4521-9453-a18c8914e5db',\n",
       " 'cf69f2f9-7b32-4470-b006-69a1fc41f55d',\n",
       " '672fdcac-400f-429e-bcb1-6407796be4ae',\n",
       " '546844bf-8ad3-4ef9-b976-d1623b39dadb',\n",
       " '1f4c81cf-0a83-4892-882c-782ae6fe4795',\n",
       " 'b1a01531-ac03-4c1b-a092-391da633968e',\n",
       " '759577fe-cc45-4f95-ba8c-bfbd1b68312e',\n",
       " 'dc764f27-4b93-41fd-9794-123fdfe0ea42',\n",
       " 'bf54eaf9-168c-4576-931c-0cafe0325b08',\n",
       " '09672884-78d7-4411-ae5a-105ec4db1574',\n",
       " 'e1ea9d22-f0da-40f8-a874-508d2e536eb7']"
      ]
     },
     "execution_count": 24,
     "metadata": {},
     "output_type": "execute_result"
    }
   ],
   "source": [
    "vector_store.add_documents(documents=data)"
   ]
  },
  {
   "cell_type": "markdown",
   "metadata": {},
   "source": [
    "Retrieval"
   ]
  },
  {
   "cell_type": "code",
   "execution_count": 25,
   "metadata": {},
   "outputs": [],
   "source": [
    "#Retriever\n",
    "retriever=vector_store.as_retriever(search_kwargs={'k':2})"
   ]
  },
  {
   "cell_type": "markdown",
   "metadata": {},
   "source": [
    "Augmentation"
   ]
  },
  {
   "cell_type": "code",
   "execution_count": 26,
   "metadata": {},
   "outputs": [],
   "source": [
    "groq_api_key=os.getenv(\"GROQ_API_KEY\")\n",
    "llm=ChatGroq(groq_api_key=groq_api_key,model_name=\"Llama3-8b-8192\")"
   ]
  },
  {
   "cell_type": "code",
   "execution_count": 27,
   "metadata": {},
   "outputs": [],
   "source": [
    "from langchain_core.prompts import PromptTemplate\n",
    "prompt=PromptTemplate(\n",
    "    template=\"\"\" \n",
    "    You are assistant for question answering tasks.\n",
    "    Use the following piece of retreived context to answer\n",
    "    the question.If you don't know the answer, say that you don't know.\n",
    "    keep the answer concise.\n",
    "    {context}\n",
    "    Question:{question}\n",
    "    \"\"\",\n",
    "    input_variables=['context','question']\n",
    ")"
   ]
  },
  {
   "cell_type": "code",
   "execution_count": 28,
   "metadata": {},
   "outputs": [],
   "source": [
    "#Building chain\n",
    "from langchain_core.runnables import RunnableParallel, RunnablePassthrough, RunnableLambda\n",
    "from langchain_core.output_parsers import StrOutputParser\n",
    "\n",
    "def format_docs(retrieved_docs):\n",
    "    context_text=\"\\n\".join(doc.page_content for doc in retrieved_docs)\n",
    "    return context_text\n",
    "\n",
    "parllel_chain=RunnableParallel({\n",
    "    'context':retriever | RunnableLambda(format_docs),\n",
    "    'question': RunnablePassthrough()\n",
    "})\n",
    "\n",
    "parser = StrOutputParser()\n",
    "\n",
    "rag_chain = parllel_chain | prompt | llm | parser\n"
   ]
  },
  {
   "cell_type": "markdown",
   "metadata": {},
   "source": [
    "Query the rag bot with a question based on the CSV data"
   ]
  },
  {
   "cell_type": "code",
   "execution_count": 30,
   "metadata": {},
   "outputs": [],
   "source": [
    "answer=rag_chain.invoke('which company does sheryl Baxter work for?')"
   ]
  },
  {
   "cell_type": "code",
   "execution_count": 31,
   "metadata": {},
   "outputs": [
    {
     "data": {
      "text/plain": [
       "'Sheryl Baxter works for Rasmussen Group.'"
      ]
     },
     "execution_count": 31,
     "metadata": {},
     "output_type": "execute_result"
    }
   ],
   "source": [
    "answer"
   ]
  }
 ],
 "metadata": {
  "kernelspec": {
   "display_name": "Python 3.10.0",
   "language": "python",
   "name": "python3"
  },
  "language_info": {
   "codemirror_mode": {
    "name": "ipython",
    "version": 3
   },
   "file_extension": ".py",
   "mimetype": "text/x-python",
   "name": "python",
   "nbconvert_exporter": "python",
   "pygments_lexer": "ipython3",
   "version": "3.10.0"
  },
  "orig_nbformat": 4,
  "vscode": {
   "interpreter": {
    "hash": "12ab9b366ad6c6c880fffbd1a9e1c0ba9825d2f9bd67635de77c6498f87926fd"
   }
  }
 },
 "nbformat": 4,
 "nbformat_minor": 2
}
