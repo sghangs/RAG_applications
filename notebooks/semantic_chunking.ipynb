{
 "cells": [
  {
   "cell_type": "markdown",
   "metadata": {},
   "source": [
    "#### Semantic Chunking for Document Processing"
   ]
  },
  {
   "cell_type": "markdown",
   "metadata": {},
   "source": [
    "This code implements a semantic chunking approach for processing and retrieving information from PDF documents, first proposed by Greg Kamradt and subsequently implemented in LangChain. Unlike traditional methods that split text based on fixed character or word counts, semantic chunking aims to create more meaningful and context-aware text segments."
   ]
  },
  {
   "cell_type": "markdown",
   "metadata": {},
   "source": [
    "Traditional text splitting methods often break documents at arbitrary points, potentially disrupting the flow of information and context. Semantic chunking addresses this issue by attempting to split text at more natural breakpoints, preserving semantic coherence within each chunk."
   ]
  },
  {
   "cell_type": "code",
   "execution_count": 3,
   "metadata": {},
   "outputs": [],
   "source": [
    "import os\n",
    "import sys\n",
    "from dotenv import load_dotenv\n",
    "load_dotenv()\n",
    "from langchain_groq import ChatGroq\n",
    "from langchain_huggingface import HuggingFaceEmbeddings\n",
    "from langchain_text_splitters import RecursiveCharacterTextSplitter\n",
    "from langchain_community.document_loaders import WebBaseLoader\n",
    "from langchain.vectorstores import Chroma\n",
    "from langchain_core.documents import Document\n",
    "from langchain_openai import ChatOpenAI\n",
    "from langchain_core.prompts import PromptTemplate\n",
    "from utility import encode_pdf, show_context, retrieve_context_per_question\n",
    "from langchain_core.output_parsers import StrOutputParser\n",
    "from typing import List\n",
    "from concurrent.futures import ThreadPoolExecutor, as_completed\n",
    "from langchain_community.docstore.in_memory import InMemoryDocstore\n",
    "from tqdm import tqdm\n",
    "from langchain.vectorstores import Chroma, FAISS\n",
    "import faiss\n",
    "from langchain_text_splitters import RecursiveCharacterTextSplitter\n",
    "from langchain_community.document_loaders import PyPDFLoader, TextLoader\n",
    "from utility import replace_t_with_space\n",
    "from langchain_experimental.text_splitter import SemanticChunker"
   ]
  },
  {
   "cell_type": "code",
   "execution_count": 2,
   "metadata": {},
   "outputs": [],
   "source": [
    "file_path = \"data/Understanding_Climate_Change.pdf\""
   ]
  },
  {
   "cell_type": "code",
   "execution_count": 4,
   "metadata": {},
   "outputs": [],
   "source": [
    "#Load the Pdf file \n",
    "loader=PyPDFLoader(file_path)\n",
    "docs=loader.load()"
   ]
  },
  {
   "cell_type": "code",
   "execution_count": 8,
   "metadata": {},
   "outputs": [],
   "source": [
    "text_data = \" \".join([doc.page_content for doc in docs])"
   ]
  },
  {
   "cell_type": "code",
   "execution_count": 9,
   "metadata": {},
   "outputs": [],
   "source": [
    "#Embeddings\n",
    "embeddings=HuggingFaceEmbeddings(model_name=\"all-MiniLM-L6-v2\")\n",
    "text_splitter = SemanticChunker(\n",
    "    embeddings=embeddings,\n",
    "    breakpoint_threshold_type='percentile',\n",
    "    breakpoint_threshold_amount=90\n",
    ")\n",
    "docs = text_splitter.create_documents([text_data])"
   ]
  },
  {
   "cell_type": "code",
   "execution_count": 13,
   "metadata": {},
   "outputs": [],
   "source": [
    "vectorstore = FAISS.from_documents(docs,embeddings)"
   ]
  },
  {
   "cell_type": "code",
   "execution_count": 14,
   "metadata": {},
   "outputs": [],
   "source": [
    "retriever = vectorstore.as_retriever(search_kwargs={'k':2})"
   ]
  },
  {
   "cell_type": "code",
   "execution_count": 15,
   "metadata": {},
   "outputs": [
    {
     "name": "stdout",
     "output_type": "stream",
     "text": [
      "Context 1:\n",
      "These effects include: \n",
      "Rising Temperatures \n",
      "Global temperatures have risen by about 1.2 degrees Celsius (2.2 degrees Fahrenheit) since \n",
      "the late 19th century. This warming is not uniform, with some regions experiencing more \n",
      "significant increases than others. Heatwaves \n",
      "Heatwaves are becoming more frequent and severe, posing risks to human health, agriculture, \n",
      "and infrastructure. Cities are particularly vulnerable due to the \"urban heat island\" effect. Heatwaves can lead to heat-related illnesses and exacerbate existing health conditions. Changing Seasons \n",
      "Climate change is altering the timing and length of seasons, affecting ecosystems and human \n",
      "activities. For example, spring is arriving earlier, and winters are becoming shorter and \n",
      "milder in many regions. This shift disrupts plant and animal life cycles and agricultural \n",
      "practices. Melting Ice and Rising Sea Levels \n",
      "Warmer temperatures are causing polar ice caps and glaciers to melt, contributing to rising \n",
      "sea levels. Sea levels have risen by about 20 centimeters (8 inches) in the past century, \n",
      "threatening coastal communities and ecosystems. Polar Ice Melt The Arctic is warming at more than twice the global average rate, leading to significant ice \n",
      "loss. Antarctic ice sheets are also losing mass, contributing to sea level rise. This melting \n",
      "affects global ocean currents and weather patterns. Glacial Retreat \n",
      "Glaciers around the world are retreating, affecting water supplies for millions of people. Regions dependent on glacial meltwater, such as the Himalayas and the Andes, face \n",
      "particular risks. Glacial melt also impacts hydropower generation and agriculture. Coastal Erosion \n",
      "Rising sea levels and increased storm surges are accelerating coastal erosion, threatening \n",
      "homes, infrastructure, and ecosystems. Low-lying islands and coastal regions are especially \n",
      "vulnerable. Coastal communities must invest in adaptation measures like sea walls and \n",
      "managed retreats. Extreme Weather Events \n",
      "Climate change is linked to an increase in the frequency and severity of extreme weather \n",
      "events, such as hurricanes, heatwaves, droughts, and heavy rainfall. These events can have \n",
      "devastating impacts on communities, economies, and ecosystems. Hurricanes and Typhoons \n",
      "Warmer ocean temperatures can intensify hurricanes and typhoons, leading to more \n",
      "destructive storms. Coastal regions are at heightened risk of storm surge and flooding. Early \n",
      "warning systems and resilient infrastructure are critical for mitigating these risks. Droughts \n",
      "Increased temperatures and changing precipitation patterns are contributing to more frequent \n",
      "and severe droughts. This affects agriculture, water supply, and ecosystems, particularly in \n",
      "arid and semi-arid regions. Droughts can lead to food and water shortages and exacerbate \n",
      "conflicts. Flooding \n",
      "Heavy rainfall events are becoming more common, leading to increased flooding. Urban \n",
      "areas with poor drainage and infrastructure are particularly at risk. Flood management \n",
      "strategies include improved drainage systems, green infrastructure, and floodplain restoration. Ocean Acidification \n",
      "Increased CO2 levels in the atmosphere lead to higher concentrations of CO2 in the oceans. This causes the water to become more acidic, which can harm marine life, particularly \n",
      "organisms with calcium carbonate shells or skeletons, such as corals and some shellfish. Coral Reefs Coral reefs are highly sensitive to changes in temperature and acidity. Ocean acidification \n",
      "and warming waters contribute to coral bleaching and mortality, threatening biodiversity and \n",
      "fisheries. Protecting and restoring coral reefs is essential for marine conservation. Marine Ecosystems \n",
      "Acidification affects the health and survival of various marine species, disrupting food webs \n",
      "and ecosystems. This has implications for commercial fisheries and the livelihoods of people \n",
      "who depend on the ocean.\n",
      "\n",
      "\n",
      "Context 2:\n",
      "Understanding Climate Change \n",
      "Chapter 1: Introduction to Climate Change \n",
      "Climate change refers to significant, long-term changes in the global climate. The term \n",
      "\"global climate\" encompasses the planet's overall weather patterns, including temperature, \n",
      "precipitation, and wind patterns, over an extended period. Over the past century, human \n",
      "activities, particularly the burning of fossil fuels and deforestation, have significantly \n",
      "contributed to climate change. Historical Context \n",
      "The Earth's climate has changed throughout history. Over the past 650,000 years, there have \n",
      "been seven cycles of glacial advance and retreat, with the abrupt end of the last ice age about \n",
      "11,700 years ago marking the beginning of the modern climate era and human civilization. Most of these climate changes are attributed to very small variations in Earth's orbit that \n",
      "change the amount of solar energy our planet receives. During the Holocene epoch, which \n",
      "began at the end of the last ice age, human societies flourished, but the industrial era has seen \n",
      "unprecedented changes. Modern Observations \n",
      "Modern scientific observations indicate a rapid increase in global temperatures, sea levels, \n",
      "and extreme weather events. The Intergovernmental Panel on Climate Change (IPCC) has \n",
      "documented these changes extensively. Ice core samples, tree rings, and ocean sediments \n",
      "provide a historical record that scientists use to understand past climate conditions and \n",
      "predict future trends. The evidence overwhelmingly shows that recent changes are primarily \n",
      "driven by human activities, particularly the emission of greenhouse gases. Chapter 2: Causes of Climate Change \n",
      "Greenhouse Gases \n",
      "The primary cause of recent climate change is the increase in greenhouse gases in the \n",
      "atmosphere. Greenhouse gases, such as carbon dioxide (CO2), methane (CH4), and nitrous \n",
      "oxide (N2O), trap heat from the sun, creating a \"greenhouse effect.\" This effect is essential \n",
      "for life on Earth, as it keeps the planet warm enough to support life. However, human \n",
      "activities have intensified this natural process, leading to a warmer climate. Fossil Fuels \n",
      "Burning fossil fuels for energy releases large amounts of CO2. This includes coal, oil, and \n",
      "natural gas used for electricity, heating, and transportation. The industrial revolution marked \n",
      "the beginning of a significant increase in fossil fuel consumption, which continues to rise \n",
      "today. Coal Coal is the most carbon-intensive fossil fuel, and its use for electricity generation is a major \n",
      "source of CO2 emissions. Despite a decline in some regions, coal remains a significant \n",
      "energy source globally. It is mined extensively in countries like China, India, and the United \n",
      "States, contributing significantly to their energy supplies and CO2 footprints. Oil \n",
      "Oil is used primarily for transportation fuels, such as gasoline and diesel. The combustion of \n",
      "oil products releases significant amounts of CO2 and other pollutants, contributing to climate \n",
      "change and air quality issues.\n",
      "\n",
      "\n"
     ]
    }
   ],
   "source": [
    "## Test the retriever \n",
    "test_query = \"What is the main cause of climate change?\"\n",
    "context = retrieve_context_per_question(test_query, retriever)\n",
    "show_context(context)"
   ]
  }
 ],
 "metadata": {
  "kernelspec": {
   "display_name": "Python 3",
   "language": "python",
   "name": "python3"
  },
  "language_info": {
   "codemirror_mode": {
    "name": "ipython",
    "version": 3
   },
   "file_extension": ".py",
   "mimetype": "text/x-python",
   "name": "python",
   "nbconvert_exporter": "python",
   "pygments_lexer": "ipython3",
   "version": "3.10.0"
  },
  "orig_nbformat": 4
 },
 "nbformat": 4,
 "nbformat_minor": 2
}
