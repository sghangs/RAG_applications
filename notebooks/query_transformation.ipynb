{
 "cells": [
  {
   "cell_type": "markdown",
   "metadata": {},
   "source": [
    "This code implements three query transformation techniques to enhance the retrieval process in Retrieval-Augmented Generation (RAG) systems:\n",
    "\n",
    "1. Query Rewriting\n",
    "2. Step-back Prompting\n",
    "3. Sub-query Decomposition\n",
    "\n",
    "Each technique aims to improve the relevance and comprehensiveness of retrieved information by modifying or expanding the original query."
   ]
  },
  {
   "cell_type": "code",
   "execution_count": 3,
   "metadata": {},
   "outputs": [],
   "source": [
    "import os\n",
    "import sys\n",
    "from dotenv import load_dotenv\n",
    "load_dotenv()\n",
    "from langchain_groq import ChatGroq\n",
    "from langchain_huggingface import HuggingFaceEmbeddings\n",
    "from langchain_text_splitters import RecursiveCharacterTextSplitter\n",
    "from langchain_community.document_loaders import WebBaseLoader\n",
    "from langchain.vectorstores import Chroma\n",
    "from langchain_core.documents import Document\n",
    "from langchain_openai import ChatOpenAI\n",
    "from langchain_core.prompts import PromptTemplate"
   ]
  },
  {
   "cell_type": "markdown",
   "metadata": {},
   "source": [
    "### 1. Query-rewriting : Reformulate queries to improve retrieval"
   ]
  },
  {
   "cell_type": "code",
   "execution_count": 4,
   "metadata": {},
   "outputs": [],
   "source": [
    "re_write_llm = ChatOpenAI(temperature=0, model_name=\"gpt-4o\", max_tokens=4000)\n",
    "\n",
    "#prompt template for query rewriting\n",
    "query_rewrite_template = PromptTemplate(\n",
    "    template = \"\"\" You are an AI assistant tasked with reformulating user queries to improve retrieval in a RAG system. \n",
    "Given the original query, rewrite it to be more specific, detailed, and likely to retrieve relevant information.\n",
    "\n",
    "Original query: {original_query}\n",
    "\n",
    "Rewritten query:\"\"\",\n",
    "input_variables=[\"original_query\"]\n",
    ")\n",
    "\n",
    "# Chain for query rewriter\n",
    "query_rewriter = query_rewrite_template | re_write_llm\n",
    "\n",
    "def rewrite_query(original_query):\n",
    "    \"\"\"\n",
    "    Rewrite the original query to improve retrieval.\n",
    "    \n",
    "    Args:\n",
    "    original_query (str): The original user query\n",
    "    \n",
    "    Returns:\n",
    "    str: The rewritten query\n",
    "    \"\"\"\n",
    "    response = query_rewriter.invoke({\"original_query\":original_query})\n",
    "\n",
    "    return response.content"
   ]
  },
  {
   "cell_type": "markdown",
   "metadata": {},
   "source": [
    "##### Demostarte on use case"
   ]
  },
  {
   "cell_type": "code",
   "execution_count": 5,
   "metadata": {},
   "outputs": [
    {
     "name": "stdout",
     "output_type": "stream",
     "text": [
      "Original query: What are the impacts of climate change on the environment?\n",
      "Rewritten query: How does climate change affect various aspects of the environment, such as biodiversity, sea levels, weather patterns, and ecosystems?\n"
     ]
    }
   ],
   "source": [
    "#Example query on climate date\n",
    "original_query = \"What are the impacts of climate change on the environment?\"\n",
    "rewritten_query = rewrite_query(original_query)\n",
    "print(\"Original query:\", original_query)\n",
    "print(\"Rewritten query:\", rewritten_query)"
   ]
  },
  {
   "cell_type": "markdown",
   "metadata": {},
   "source": [
    "#### 2. Step-back prompting - Generate broader queries for better context retrieval"
   ]
  },
  {
   "cell_type": "code",
   "execution_count": 6,
   "metadata": {},
   "outputs": [],
   "source": [
    "step_back_llm = ChatOpenAI(temperature=0, model_name=\"gpt-4o\", max_tokens=4000)\n",
    "\n",
    "#prompt template for step back prompting\n",
    "step_back_template = PromptTemplate(\n",
    "    template = \"\"\" You are an AI assistant tasked with generating broader, more general queries to improve context retrieval in a RAG system.\n",
    "Given the original query, generate a step-back query that is more general and can help retrieve relevant background information.\n",
    "\n",
    "Original query: {original_query}\n",
    "\n",
    "Step-back query:\"\"\",\n",
    "input_variables=[\"original_query\"]\n",
    ")\n",
    "\n",
    "# Chain for step back prompting\n",
    "step_back_chain = step_back_template | step_back_llm\n",
    "\n",
    "def step_back_query(original_query):\n",
    "    \"\"\"\n",
    "    Generate a step-back query to retrieve broader context.\n",
    "    \n",
    "    Args:\n",
    "    original_query (str): The original user query\n",
    "    \n",
    "    Returns:\n",
    "    str: The step-back query\n",
    "    \"\"\"\n",
    "    response = step_back_chain.invoke({\"original_query\":original_query})\n",
    "\n",
    "    return response.content"
   ]
  },
  {
   "cell_type": "code",
   "execution_count": 7,
   "metadata": {},
   "outputs": [
    {
     "name": "stdout",
     "output_type": "stream",
     "text": [
      "Original query: What are the impacts of climate change on the environment?\n",
      "Rewritten query: What are the general effects of environmental changes on ecosystems and biodiversity?\n"
     ]
    }
   ],
   "source": [
    "#Example query on climate date\n",
    "original_query = \"What are the impacts of climate change on the environment?\"\n",
    "stepback_query = step_back_query(original_query)\n",
    "print(\"Original query:\", original_query)\n",
    "print(\"Rewritten query:\", stepback_query)"
   ]
  },
  {
   "cell_type": "markdown",
   "metadata": {},
   "source": [
    "##### 3. Sub query decomposition - Breaking complex queries into smaller sub queries"
   ]
  },
  {
   "cell_type": "code",
   "execution_count": 8,
   "metadata": {},
   "outputs": [],
   "source": [
    "sub_query_llm = ChatOpenAI(temperature=0, model_name=\"gpt-4o\", max_tokens=4000)\n",
    "\n",
    "#prompt template for query decomposition\n",
    "sub_query_template = PromptTemplate(\n",
    "    template = \"\"\" You are an AI assistant tasked with breaking down complex queries into simpler sub-queries for a RAG system.\n",
    "Given the original query, decompose it into 2-4 simpler sub-queries that, when answered together, would provide a comprehensive response to the original query.\n",
    "\n",
    "Original query: {original_query}\n",
    "\n",
    "example: What are the impacts of climate change on the environment?\n",
    "\n",
    "Sub-queries:\n",
    "1. What are the impacts of climate change on biodiversity?\n",
    "2. How does climate change affect the oceans?\n",
    "3. What are the effects of climate change on agriculture?\n",
    "4. What are the impacts of climate change on human health?\"\"\",\n",
    "input_variables=[\"original_query\"]\n",
    ")\n",
    "\n",
    "# Chain for step back prompting\n",
    "sub_query_chain = sub_query_template | sub_query_llm\n",
    "\n",
    "def generate_sub_query(original_query):\n",
    "    \"\"\"\n",
    "    Decompose the original query into simpler sub-queries.\n",
    "    \n",
    "    Args:\n",
    "    original_query (str): The original complex query\n",
    "    \n",
    "    Returns:\n",
    "    List[str]: A list of simpler sub-queries\n",
    "    \"\"\"\n",
    "    response = sub_query_chain.invoke({\"original_query\":original_query})\n",
    "\n",
    "    return response.content"
   ]
  },
  {
   "cell_type": "code",
   "execution_count": 9,
   "metadata": {},
   "outputs": [
    {
     "name": "stdout",
     "output_type": "stream",
     "text": [
      "Original query: What are the impacts of climate change on the environment?\n",
      "Rewritten query: Sub-queries:\n",
      "1. How does climate change affect weather patterns and extreme weather events?\n",
      "2. What are the impacts of climate change on ecosystems and wildlife habitats?\n",
      "3. How does climate change influence sea levels and coastal areas?\n",
      "4. What are the effects of climate change on freshwater resources and availability?\n"
     ]
    }
   ],
   "source": [
    "#Example query on climate date\n",
    "original_query = \"What are the impacts of climate change on the environment?\"\n",
    "sub_query = generate_sub_query(original_query)\n",
    "print(\"Original query:\", original_query)\n",
    "print(\"Rewritten query:\", sub_query)"
   ]
  }
 ],
 "metadata": {
  "kernelspec": {
   "display_name": "Python 3.10.0",
   "language": "python",
   "name": "python3"
  },
  "language_info": {
   "codemirror_mode": {
    "name": "ipython",
    "version": 3
   },
   "file_extension": ".py",
   "mimetype": "text/x-python",
   "name": "python",
   "nbconvert_exporter": "python",
   "pygments_lexer": "ipython3",
   "version": "3.10.0"
  },
  "orig_nbformat": 4,
  "vscode": {
   "interpreter": {
    "hash": "12ab9b366ad6c6c880fffbd1a9e1c0ba9825d2f9bd67635de77c6498f87926fd"
   }
  }
 },
 "nbformat": 4,
 "nbformat_minor": 2
}
