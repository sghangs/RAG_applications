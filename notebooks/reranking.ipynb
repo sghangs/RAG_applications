{
 "cells": [
  {
   "cell_type": "markdown",
   "metadata": {},
   "source": [
    "#### Reranking Methods in RAG Systems"
   ]
  },
  {
   "cell_type": "markdown",
   "metadata": {},
   "source": [
    "Reranking is a crucial step in Retrieval-Augmented Generation (RAG) systems that aims to improve the relevance and quality of retrieved documents. It involves reassessing and reordering initially retrieved documents to ensure that the most pertinent information is prioritized for subsequent processing or presentation."
   ]
  },
  {
   "cell_type": "markdown",
   "metadata": {},
   "source": [
    "#### Method Details\n",
    "The reranking process generally follows these steps:\n",
    "\n",
    "1. Initial Retrieval: Fetch an initial set of potentially relevant documents.\n",
    "2. Pair Creation: Form query-document pairs for each retrieved document.\n",
    "3. Scoring:\n",
    "    LLM Method: Use prompts to ask the LLM to rate document relevance.\n",
    "    Cross-Encoder Method: Feed query-document pairs directly into the model.\n",
    "4. Score Interpretation: Parse and normalize the relevance scores.\n",
    "5. Reordering: Sort documents based on their new relevance scores.\n",
    "6. Selection: Choose the top K documents from the reordered list."
   ]
  },
  {
   "cell_type": "code",
   "execution_count": 1,
   "metadata": {},
   "outputs": [
    {
     "name": "stderr",
     "output_type": "stream",
     "text": [
      "USER_AGENT environment variable not set, consider setting it to identify your requests.\n"
     ]
    }
   ],
   "source": [
    "import os\n",
    "import sys\n",
    "from dotenv import load_dotenv\n",
    "load_dotenv()\n",
    "from langchain_groq import ChatGroq\n",
    "from langchain_huggingface import HuggingFaceEmbeddings\n",
    "from langchain_text_splitters import RecursiveCharacterTextSplitter\n",
    "from langchain_community.document_loaders import WebBaseLoader\n",
    "from langchain.vectorstores import Chroma\n",
    "from langchain_core.documents import Document\n",
    "from langchain_openai import ChatOpenAI\n",
    "from langchain_core.prompts import PromptTemplate, ChatPromptTemplate\n",
    "from utility import encode_pdf, show_context, retrieve_context_per_question\n",
    "from langchain_core.output_parsers import StrOutputParser\n",
    "from typing import List\n",
    "from concurrent.futures import ThreadPoolExecutor, as_completed\n",
    "from langchain_community.docstore.in_memory import InMemoryDocstore\n",
    "from tqdm import tqdm\n",
    "from langchain.vectorstores import Chroma, FAISS\n",
    "import faiss\n",
    "from langchain_text_splitters import RecursiveCharacterTextSplitter\n",
    "from langchain_community.document_loaders import PyPDFLoader, TextLoader\n",
    "from utility import replace_t_with_space\n",
    "from langchain_experimental.text_splitter import SemanticChunker"
   ]
  },
  {
   "cell_type": "code",
   "execution_count": 2,
   "metadata": {},
   "outputs": [
    {
     "name": "stderr",
     "output_type": "stream",
     "text": [
      "c:\\Users\\sunny\\Desktop\\Langchain_projects\\Q&A_chatbot\\venv\\lib\\site-packages\\tqdm\\auto.py:21: TqdmWarning: IProgress not found. Please update jupyter and ipywidgets. See https://ipywidgets.readthedocs.io/en/stable/user_install.html\n",
      "  from .autonotebook import tqdm as notebook_tqdm\n"
     ]
    }
   ],
   "source": [
    "file_path=\"data/Understanding_Climate_Change.pdf\"\n",
    "vector_store = encode_pdf(file_path)"
   ]
  },
  {
   "cell_type": "markdown",
   "metadata": {},
   "source": [
    "#### 1. LLM based method to rerank the retrieved documents"
   ]
  },
  {
   "cell_type": "code",
   "execution_count": 4,
   "metadata": {},
   "outputs": [],
   "source": [
    "from pydantic import BaseModel, Field"
   ]
  },
  {
   "cell_type": "code",
   "execution_count": 5,
   "metadata": {},
   "outputs": [],
   "source": [
    "#schema for scoring a document \n",
    "class RatingScore(BaseModel):\n",
    "    relevance_score:float = Field(description=\"The relevance score of a document to a query\")\n",
    "\n",
    "def rerank_documents(query:str,docs:List[Document],top_n:int = 3) -> List[Document]:\n",
    "    prompt = PromptTemplate(\n",
    "        template = \"\"\" On a scale of 1-10, rate the relevance of the following document to the query. \n",
    "        Consider the specific context and intent of the query, not just keyword matches.\n",
    "        Query: {query}\n",
    "        Document: {doc}\n",
    "        Relevance Score:\"\"\"\n",
    "    )\n",
    "\n",
    "    groq_api_key=os.getenv(\"GROQ_API_KEY\")\n",
    "    llm=ChatGroq(groq_api_key=groq_api_key,model_name=\"llama-3.1-8b-instant\")\n",
    "\n",
    "    llm_chain = prompt | llm.with_structured_output(RatingScore)\n",
    "\n",
    "    scored_docs = []\n",
    "    for doc in docs:\n",
    "        score = llm_chain.invoke({'query':query,'doc':doc.page_content}).relevance_score\n",
    "        try:\n",
    "            score = float(score)\n",
    "        except ValueError:\n",
    "            score = 0\n",
    "        scored_docs.append((doc,score))\n",
    "    reranked_docs = sorted(scored_docs,key=lambda x:x[1],reverse=True)\n",
    "    return [doc for doc,_ in reranked_docs[:top_n]]\n",
    "\n"
   ]
  },
  {
   "cell_type": "code",
   "execution_count": null,
   "metadata": {},
   "outputs": [],
   "source": [
    "retriever = vector_store.as_retriever(search_kwargs={'k':10})"
   ]
  },
  {
   "cell_type": "code",
   "execution_count": 6,
   "metadata": {},
   "outputs": [
    {
     "name": "stdout",
     "output_type": "stream",
     "text": [
      "Top initial documents:\n",
      "\n",
      "Document 1:\n",
      "Climate change is altering terrestrial ecosystems by shifting habitat ranges, changing species \n",
      "distributions, and impacting ecosystem functions. Forests, grasslands, and deserts are \n",
      "experiencing shi...\n",
      "\n",
      "Document 2:\n",
      "protection, and habitat creation. \n",
      "Climate-Resilient Conservation \n",
      "Conservation strategies must account for climate change impacts to be effective. This \n",
      "includes identifying climate refugia, areas le...\n",
      "\n",
      "Document 3:\n",
      "The economic costs of climate change include damage to infrastructure, reduced agricultural \n",
      "productivity, health care costs, and lost labor productivity. Extreme weather events, such as \n",
      "hurricanes a...\n",
      "Query: What are the impacts of climate change on biodiversity?\n",
      "\n",
      "Top reranked documents:\n",
      "\n",
      "Document 1:\n",
      "Climate change is altering terrestrial ecosystems by shifting habitat ranges, changing species \n",
      "distributions, and impacting ecosystem functions. Forests, grasslands, and deserts are \n",
      "experiencing shi...\n",
      "\n",
      "Document 2:\n",
      "Coral reefs are highly sensitive to changes in temperature and acidity. Ocean acidification \n",
      "and warming waters contribute to coral bleaching and mortality, threatening biodiversity and \n",
      "fisheries. Pr...\n",
      "\n",
      "Document 3:\n",
      "protection, and habitat creation. \n",
      "Climate-Resilient Conservation \n",
      "Conservation strategies must account for climate change impacts to be effective. This \n",
      "includes identifying climate refugia, areas le...\n"
     ]
    }
   ],
   "source": [
    "query=\"What are the impacts of climate change on biodiversity?\"\n",
    "initial_docs = vector_store.similarity_search(query,k=10)\n",
    "reranked_docs = rerank_documents(query,initial_docs)\n",
    "\n",
    "# print first 3 initial documents\n",
    "print(\"Top initial documents:\")\n",
    "for i, doc in enumerate(initial_docs[:3]):\n",
    "    print(f\"\\nDocument {i+1}:\")\n",
    "    print(doc.page_content[:200] + \"...\")  # Print first 200 characters of each document\n",
    "\n",
    "\n",
    "# Print results\n",
    "print(f\"Query: {query}\\n\")\n",
    "print(\"Top reranked documents:\")\n",
    "for i, doc in enumerate(reranked_docs):\n",
    "    print(f\"\\nDocument {i+1}:\")\n",
    "    print(doc.page_content[:200] + \"...\")  # Print first 200 characters of each document"
   ]
  },
  {
   "cell_type": "code",
   "execution_count": 10,
   "metadata": {},
   "outputs": [],
   "source": [
    "#Implement custom retriever to build the chain\n",
    "from langchain_core.retrievers import BaseRetriever\n",
    "from langchain_core.callbacks import CallbackManagerForRetrieverRun\n",
    "from typing import Any \n",
    "\n",
    "class CustomRetriever(BaseRetriever,BaseModel):\n",
    "    \"\"\" \n",
    "    A Custom retriever that gives the top k relevant documents based on reranking method\n",
    "    \"\"\"\n",
    "    vectorstore: Any = Field(description=\"vector store for initial retrival\")\n",
    "\n",
    "    class Config:\n",
    "        arbitrary_types_allowed = True\n",
    "\n",
    "    def _get_relevant_documents(self, query: str, *, num_docs = 2,run_manager: CallbackManagerForRetrieverRun) -> list[Document]:\n",
    "        initial_docs = self.vectorstore.similarity_search(query,k=10)\n",
    "        return rerank_documents(query,initial_docs,top_n=num_docs)\n",
    "\n",
    "custom_retriever = CustomRetriever(vectorstore=vector_store)"
   ]
  },
  {
   "cell_type": "code",
   "execution_count": 11,
   "metadata": {},
   "outputs": [],
   "source": [
    "from langchain.chains import create_retrieval_chain\n",
    "from langchain.chains.combine_documents import create_stuff_documents_chain\n",
    "groq_api_key=os.getenv(\"GROQ_API_KEY\")\n",
    "llm=ChatGroq(groq_api_key=groq_api_key,model_name=\"llama-3.1-8b-instant\")\n",
    "system_prompt = \"\"\" \n",
    "    Use the given context to answer the question. \"\n",
    "    \"If you don't know the answer, say you don't know. \"\n",
    "    \"Use three sentence maximum and keep the answer concise. \"\n",
    "    \"Context: {context}\n",
    "\"\"\"\n",
    "prompt = ChatPromptTemplate(\n",
    "    [\n",
    "        (\"system\",system_prompt),\n",
    "        (\"user\",\"{input}\")\n",
    "    ]\n",
    ")\n",
    "\n",
    "qa_chain = create_stuff_documents_chain(llm,prompt)\n",
    "retriever_chain = create_retrieval_chain(custom_retriever,qa_chain)"
   ]
  },
  {
   "cell_type": "code",
   "execution_count": 12,
   "metadata": {},
   "outputs": [],
   "source": [
    "query=\"What are the impacts of climate change on biodiversity?\"\n",
    "result = retriever_chain.invoke({'input':query})"
   ]
  },
  {
   "cell_type": "code",
   "execution_count": 13,
   "metadata": {},
   "outputs": [
    {
     "data": {
      "text/plain": [
       "{'input': 'What are the impacts of climate change on biodiversity?',\n",
       " 'context': [Document(id='614539c3-c47f-4c85-9634-9947d9f75f7f', metadata={'producer': 'Microsoft® Word 2021', 'creator': 'Microsoft® Word 2021', 'creationdate': '2024-07-13T20:17:34+03:00', 'author': 'Nir', 'moddate': '2024-07-13T20:17:34+03:00', 'source': 'data/Understanding_Climate_Change.pdf', 'total_pages': 33, 'page': 4, 'page_label': '5'}, page_content='Coral reefs are highly sensitive to changes in temperature and acidity. Ocean acidification \\nand warming waters contribute to coral bleaching and mortality, threatening biodiversity and \\nfisheries. Protecting and restoring coral reefs is essential for marine conservation. \\nMarine Ecosystems \\nAcidification affects the health and survival of various marine species, disrupting food webs \\nand ecosystems. This has implications for commercial fisheries and the livelihoods of people \\nwho depend on the ocean. Efforts to reduce CO2 emissions and enhance marine protected \\nareas are vital. \\nChapter 4: Mitigation and Adaptation \\nAddressing climate change requires a two-pronged approach: mitigation and adaptation. \\nMitigation involves reducing or preventing the emission of greenhouse gases, while \\nadaptation involves making adjustments to social, economic, and environmental practices to \\nminimize the damage caused by climate change. \\nRenewable Energy'),\n",
       "  Document(id='ec98fbdb-0ff6-4bb2-a3cd-0329f2ea1f61', metadata={'producer': 'Microsoft® Word 2021', 'creator': 'Microsoft® Word 2021', 'creationdate': '2024-07-13T20:17:34+03:00', 'author': 'Nir', 'moddate': '2024-07-13T20:17:34+03:00', 'source': 'data/Understanding_Climate_Change.pdf', 'total_pages': 33, 'page': 12, 'page_label': '13'}, page_content='Climate change is altering terrestrial ecosystems by shifting habitat ranges, changing species \\ndistributions, and impacting ecosystem functions. Forests, grasslands, and deserts are \\nexperiencing shifts in plant and animal species composition. These changes can lead to a loss \\nof biodiversity and disrupt ecological balance. \\nMarine Ecosystems \\nMarine ecosystems are highly vulnerable to climate change. Rising sea temperatures, ocean \\nacidification, and changing currents affect marine biodiversity, from coral reefs to deep-sea \\nhabitats. Species migration and changes in reproductive cycles can disrupt marine food webs \\nand fisheries.')],\n",
       " 'answer': 'Climate change affects biodiversity by altering species distributions, disrupting food webs, and leading to a loss of ecological balance. This includes shifts in habitat ranges, changes in plant and animal species composition, and impacts on ecosystem functions. Additionally, it can cause coral bleaching, mortality, and disrupt marine food webs and fisheries.'}"
      ]
     },
     "execution_count": 13,
     "metadata": {},
     "output_type": "execute_result"
    }
   ],
   "source": [
    "result"
   ]
  }
 ],
 "metadata": {
  "kernelspec": {
   "display_name": "Python 3.10.0",
   "language": "python",
   "name": "python3"
  },
  "language_info": {
   "codemirror_mode": {
    "name": "ipython",
    "version": 3
   },
   "file_extension": ".py",
   "mimetype": "text/x-python",
   "name": "python",
   "nbconvert_exporter": "python",
   "pygments_lexer": "ipython3",
   "version": "3.10.0"
  },
  "orig_nbformat": 4,
  "vscode": {
   "interpreter": {
    "hash": "12ab9b366ad6c6c880fffbd1a9e1c0ba9825d2f9bd67635de77c6498f87926fd"
   }
  }
 },
 "nbformat": 4,
 "nbformat_minor": 2
}
