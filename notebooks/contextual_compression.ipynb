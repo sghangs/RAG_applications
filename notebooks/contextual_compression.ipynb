{
 "cells": [
  {
   "cell_type": "markdown",
   "metadata": {},
   "source": [
    "### Contextual Compression in Document Retrieval"
   ]
  },
  {
   "cell_type": "markdown",
   "metadata": {},
   "source": [
    "This code demonstrates the implementation of contextual compression in a document retrieval system using LangChain and OpenAI's language models. The technique aims to improve the relevance and conciseness of retrieved information by compressing and extracting the most pertinent parts of documents in the context of a given query."
   ]
  },
  {
   "cell_type": "code",
   "execution_count": 5,
   "metadata": {},
   "outputs": [],
   "source": [
    "import os\n",
    "import sys\n",
    "from dotenv import load_dotenv\n",
    "load_dotenv()\n",
    "from langchain_groq import ChatGroq\n",
    "from langchain_huggingface import HuggingFaceEmbeddings\n",
    "from langchain_text_splitters import RecursiveCharacterTextSplitter\n",
    "from langchain_community.document_loaders import WebBaseLoader\n",
    "from langchain.vectorstores import Chroma\n",
    "from langchain_core.documents import Document\n",
    "from langchain_openai import ChatOpenAI\n",
    "from langchain_core.prompts import PromptTemplate, ChatPromptTemplate\n",
    "from utility import encode_pdf, show_context, retrieve_context_per_question\n",
    "from langchain_core.output_parsers import StrOutputParser\n",
    "from typing import List\n",
    "from concurrent.futures import ThreadPoolExecutor, as_completed\n",
    "from langchain_community.docstore.in_memory import InMemoryDocstore\n",
    "from tqdm import tqdm\n",
    "from langchain.vectorstores import Chroma, FAISS\n",
    "import faiss\n",
    "from langchain_text_splitters import RecursiveCharacterTextSplitter\n",
    "from langchain_community.document_loaders import PyPDFLoader, TextLoader\n",
    "from utility import replace_t_with_space\n",
    "from langchain_experimental.text_splitter import SemanticChunker"
   ]
  },
  {
   "cell_type": "code",
   "execution_count": 2,
   "metadata": {},
   "outputs": [
    {
     "name": "stderr",
     "output_type": "stream",
     "text": [
      "c:\\Users\\sunny\\Desktop\\Langchain_projects\\Q&A_chatbot\\venv\\lib\\site-packages\\tqdm\\auto.py:21: TqdmWarning: IProgress not found. Please update jupyter and ipywidgets. See https://ipywidgets.readthedocs.io/en/stable/user_install.html\n",
      "  from .autonotebook import tqdm as notebook_tqdm\n"
     ]
    }
   ],
   "source": [
    "file_path = \"data/Understanding_Climate_Change.pdf\"\n",
    "vector_store = encode_pdf(file_path)"
   ]
  },
  {
   "cell_type": "code",
   "execution_count": 3,
   "metadata": {},
   "outputs": [],
   "source": [
    "#Base retriever \n",
    "retriever = vector_store.as_retriever(search_kwargs={'k':3})\n",
    "\n",
    "from langchain.retrievers.contextual_compression import ContextualCompressionRetriever\n",
    "from langchain.retrievers.document_compressors import LLMChainExtractor\n",
    "\n",
    "#SEtup the compressor using LLM\n",
    "groq_api_key=os.getenv(\"GROQ_API_KEY\")\n",
    "llm=ChatGroq(groq_api_key=groq_api_key,model_name=\"Llama3-8b-8192\")\n",
    "compressor = LLMChainExtractor.from_llm(llm)\n",
    "\n",
    "#Create contextual compression retriever \n",
    "compression_retriever = ContextualCompressionRetriever(\n",
    "    base_retriever=retriever,\n",
    "    base_compressor=compressor\n",
    ")"
   ]
  },
  {
   "cell_type": "code",
   "execution_count": 6,
   "metadata": {},
   "outputs": [],
   "source": [
    "from langchain.chains import create_retrieval_chain\n",
    "from langchain.chains.combine_documents import create_stuff_documents_chain\n",
    "system_prompt = \"\"\" \n",
    "    Use the given context to answer the question. \"\n",
    "    \"If you don't know the answer, say you don't know. \"\n",
    "    \"Use three sentence maximum and keep the answer concise. \"\n",
    "    \"Context: {context}\n",
    "\"\"\"\n",
    "prompt = ChatPromptTemplate(\n",
    "    [\n",
    "        (\"system\",system_prompt),\n",
    "        (\"user\",\"{input}\")\n",
    "    ]\n",
    ")\n",
    "\n",
    "qa_chain = create_stuff_documents_chain(llm,prompt)\n",
    "retriever_chain = create_retrieval_chain(retriever,qa_chain)"
   ]
  },
  {
   "cell_type": "code",
   "execution_count": 7,
   "metadata": {},
   "outputs": [],
   "source": [
    "query = \"What is the main topic of the document?\"\n",
    "result = retriever_chain.invoke({\"input\":query})"
   ]
  },
  {
   "cell_type": "code",
   "execution_count": 8,
   "metadata": {},
   "outputs": [
    {
     "data": {
      "text/plain": [
       "{'input': 'What is the main topic of the document?',\n",
       " 'context': [Document(id='ecda88c8-3e10-4c41-838a-e28691f33ffb', metadata={'producer': 'Microsoft® Word 2021', 'creator': 'Microsoft® Word 2021', 'creationdate': '2024-07-13T20:17:34+03:00', 'author': 'Nir', 'moddate': '2024-07-13T20:17:34+03:00', 'source': 'data/Understanding_Climate_Change.pdf', 'total_pages': 33, 'page': 26, 'page_label': '27'}, page_content='challenges. This includes collaboration between scientists, policymakers, businesses, and \\ncommunities. Interdisciplinary research and solutions are more holistic and effective. \\nCitizen Science \\nCitizen science involves engaging the public in scientific research and data collection. This \\nempowers individuals to contribute to climate knowledge and action. Citizen science projects \\ncan enhance data accuracy, raise awareness, and foster community engagement. \\nHope and Inspiration \\nPositive Narratives'),\n",
       "  Document(id='59043a38-45d4-4b25-abd1-4a143d54599b', metadata={'producer': 'Microsoft® Word 2021', 'creator': 'Microsoft® Word 2021', 'creationdate': '2024-07-13T20:17:34+03:00', 'author': 'Nir', 'moddate': '2024-07-13T20:17:34+03:00', 'source': 'data/Understanding_Climate_Change.pdf', 'total_pages': 33, 'page': 23, 'page_label': '24'}, page_content=\"Kyoto Protocol \\nThe Kyoto Protocol, adopted in 1997, set binding emission reduction targets for developed \\ncountries. It was the first major international treaty to address climate change. The protocol \\nlaid the groundwork for subsequent agreements, highlighting the importance of collective \\naction. \\nMontreal Protocol \\nThe Montreal Protocol, designed to protect the ozone layer by phasing out ozone-depleting \\nsubstances, has also contributed to climate mitigation. The Kigali Amendment to the protocol \\ntargets hydrofluorocarbons (HFCs), potent greenhouse gases, demonstrating the treaty's \\nevolving role in climate protection. \\nRegional and National Initiatives \\nEuropean Green Deal \\nThe European Green Deal is an ambitious plan to make Europe the first climate-neutral \\ncontinent by 2050. It includes measures to reduce emissions, promote clean energy, and \\nsupport sustainable agriculture and biodiversity. The deal also aims to create jobs and \\nenhance economic resilience.\"),\n",
       "  Document(id='a55cc19a-3447-4828-bd17-4708dcd68c29', metadata={'producer': 'Microsoft® Word 2021', 'creator': 'Microsoft® Word 2021', 'creationdate': '2024-07-13T20:17:34+03:00', 'author': 'Nir', 'moddate': '2024-07-13T20:17:34+03:00', 'source': 'data/Understanding_Climate_Change.pdf', 'total_pages': 33, 'page': 16, 'page_label': '17'}, page_content='Journalists and media organizations play a key role in informing the public about climate \\nchange. Investigative reporting, in-depth analysis, and human-interest stories can highlight \\nthe urgency and impacts of climate change. Media coverage can also hold policymakers and \\nbusinesses accountable. \\nPublic Engagement \\nPublic engagement initiatives, such as citizen science projects, forums, and dialogues, \\nencourage active participation in climate action. These initiatives provide platforms for \\nsharing knowledge, experiences, and ideas. Engaging the public fosters a sense of ownership \\nand responsibility. \\nChapter 12: The Path Forward')],\n",
       " 'answer': 'The main topic of the document is addressing climate change through international agreements, regional and national initiatives, collaboration, public engagement, and scientific research.'}"
      ]
     },
     "execution_count": 8,
     "metadata": {},
     "output_type": "execute_result"
    }
   ],
   "source": [
    "result"
   ]
  }
 ],
 "metadata": {
  "kernelspec": {
   "display_name": "Python 3.10.0",
   "language": "python",
   "name": "python3"
  },
  "language_info": {
   "codemirror_mode": {
    "name": "ipython",
    "version": 3
   },
   "file_extension": ".py",
   "mimetype": "text/x-python",
   "name": "python",
   "nbconvert_exporter": "python",
   "pygments_lexer": "ipython3",
   "version": "3.10.0"
  },
  "orig_nbformat": 4,
  "vscode": {
   "interpreter": {
    "hash": "12ab9b366ad6c6c880fffbd1a9e1c0ba9825d2f9bd67635de77c6498f87926fd"
   }
  }
 },
 "nbformat": 4,
 "nbformat_minor": 2
}
