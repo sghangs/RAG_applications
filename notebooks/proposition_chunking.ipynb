{
 "cells": [
  {
   "cell_type": "markdown",
   "metadata": {},
   "source": [
    "This code implements the proposition chunking method, based on research from Tony Chen, et. al.. The system break downs the input text into propositions that are atomic, factual, self-contained, and concise in nature, encodes the propositions into a vectorstore, which can be later used for retrieval"
   ]
  },
  {
   "cell_type": "code",
   "execution_count": 1,
   "metadata": {},
   "outputs": [
    {
     "name": "stderr",
     "output_type": "stream",
     "text": [
      "USER_AGENT environment variable not set, consider setting it to identify your requests.\n"
     ]
    }
   ],
   "source": [
    "import os\n",
    "import sys\n",
    "from dotenv import load_dotenv\n",
    "load_dotenv()\n",
    "from langchain_groq import ChatGroq\n",
    "from langchain_huggingface import HuggingFaceEmbeddings\n",
    "from langchain_text_splitters import RecursiveCharacterTextSplitter\n",
    "from langchain_community.document_loaders import WebBaseLoader\n",
    "from langchain.vectorstores import Chroma"
   ]
  },
  {
   "cell_type": "code",
   "execution_count": 2,
   "metadata": {},
   "outputs": [],
   "source": [
    "sample_content = \"\"\"Paul Graham's essay \"Founder Mode,\" published in September 2024, challenges conventional wisdom about scaling startups, arguing that founders should maintain their unique management style rather than adopting traditional corporate practices as their companies grow.\n",
    "Conventional Wisdom vs. Founder Mode\n",
    "The essay argues that the traditional advice given to growing companies—hiring good people and giving them autonomy—often fails when applied to startups.\n",
    "This approach, suitable for established companies, can be detrimental to startups where the founder's vision and direct involvement are crucial. \"Founder Mode\" is presented as an emerging paradigm that is not yet fully understood or documented, contrasting with the conventional \"manager mode\" often advised by business schools and professional managers.\n",
    "Unique Founder Abilities\n",
    "Founders possess unique insights and abilities that professional managers do not, primarily because they have a deep understanding of their company's vision and culture.\n",
    "Graham suggests that founders should leverage these strengths rather than conform to traditional managerial practices. \"Founder Mode\" is an emerging paradigm that is not yet fully understood or documented, with Graham hoping that over time, it will become as well-understood as the traditional manager mode, allowing founders to maintain their unique approach even as their companies scale.\n",
    "Challenges of Scaling Startups\n",
    "As startups grow, there is a common belief that they must transition to a more structured managerial approach. However, many founders have found this transition problematic, as it often leads to a loss of the innovative and agile spirit that drove the startup's initial success.\n",
    "Brian Chesky, co-founder of Airbnb, shared his experience of being advised to run the company in a traditional managerial style, which led to poor outcomes. He eventually found success by adopting a different approach, influenced by how Steve Jobs managed Apple.\n",
    "Steve Jobs' Management Style\n",
    "Steve Jobs' management approach at Apple served as inspiration for Brian Chesky's \"Founder Mode\" at Airbnb. One notable practice was Jobs' annual retreat for the 100 most important people at Apple, regardless of their position on the organizational chart\n",
    ". This unconventional method allowed Jobs to maintain a startup-like environment even as Apple grew, fostering innovation and direct communication across hierarchical levels. Such practices emphasize the importance of founders staying deeply involved in their companies' operations, challenging the traditional notion of delegating responsibilities to professional managers as companies scale.\n",
    "\"\"\""
   ]
  },
  {
   "cell_type": "code",
   "execution_count": 25,
   "metadata": {},
   "outputs": [],
   "source": [
    "from langchain_core.documents import Document\n",
    "docs_list=[Document(page_content=sample_content,\n",
    "metadata={\"Title\": \"Paul Graham's Founder Mode Essay\", \n",
    "\"Source\": \"https://www.perplexity.ai/page/paul-graham-s-founder-mode-ess-t9TCyvkqRiyMQJWsHr0fnQ\"})]\n",
    "\n",
    "splitter = RecursiveCharacterTextSplitter(\n",
    "    chunk_size=200,\n",
    "    chunk_overlap=50\n",
    ")\n",
    "\n",
    "docs_splitted=splitter.split_documents(docs_list)"
   ]
  },
  {
   "cell_type": "code",
   "execution_count": 26,
   "metadata": {},
   "outputs": [],
   "source": [
    "#Adding chunk id to the documents list\n",
    "for i, doc in enumerate(docs_splitted):\n",
    "    doc.metadata['chunk_id']=i+1"
   ]
  },
  {
   "cell_type": "code",
   "execution_count": 43,
   "metadata": {},
   "outputs": [
    {
     "data": {
      "text/plain": [
       "Document(metadata={'Title': \"Paul Graham's Founder Mode Essay\", 'Source': 'https://www.perplexity.ai/page/paul-graham-s-founder-mode-ess-t9TCyvkqRiyMQJWsHr0fnQ', 'chunk_id': 3}, page_content='Conventional Wisdom vs. Founder Mode\\nThe essay argues that the traditional advice given to growing companies—hiring good people and giving them autonomy—often fails when applied to startups.')"
      ]
     },
     "execution_count": 43,
     "metadata": {},
     "output_type": "execute_result"
    }
   ],
   "source": [
    "docs_splitted[2]"
   ]
  },
  {
   "cell_type": "code",
   "execution_count": 30,
   "metadata": {},
   "outputs": [],
   "source": [
    "#Generate proposition\n",
    "from pydantic import Field, BaseModel\n",
    "from typing import List\n",
    "from langchain_core.prompts import ChatPromptTemplate, FewShotChatMessagePromptTemplate\n",
    "from langchain_openai import ChatOpenAI\n",
    "\n",
    "#Schema for LLM output (Proposition)\n",
    "class GenerateProposition(BaseModel):\n",
    "    \"\"\" List of all the propositions in a given document\"\"\"\n",
    "    propositions:List[str] = Field(description=\"List of propositions (Factual, self-contained and concise information\")\n",
    "\n",
    "groq_api_key=os.getenv(\"GROQ_API_KEY\")\n",
    "llm=ChatGroq(groq_api_key=groq_api_key,model_name=\"Llama3-8b-8192\")\n",
    "#llm=ChatOpenAI(temperature=0, model_name=\"gpt-4-turbo-preview\")\n",
    "\n",
    "structured_llm=llm.with_structured_output(GenerateProposition)\n",
    "\n",
    "#Few shot prompting\n",
    "\n",
    "proposition_examples = [\n",
    "    {\"document\": \n",
    "        \"In 1969, Neil Armstrong became the first person to walk on the Moon during the Apollo 11 mission.\", \n",
    "     \"propositions\": \n",
    "        \"['Neil Armstrong was an astronaut.', 'Neil Armstrong walked on the Moon in 1969.', 'Neil Armstrong was the first person to walk on the Moon.', 'Neil Armstrong walked on the Moon during the Apollo 11 mission.', 'The Apollo 11 mission occurred in 1969.']\"\n",
    "    },\n",
    "]\n",
    "\n",
    "proposition_prompt_example = ChatPromptTemplate.from_messages(\n",
    "    [\n",
    "        ('human','{document}'),\n",
    "        ('ai','{propositions}')\n",
    "    ]\n",
    ")\n",
    "\n",
    "few_shot_prompt = FewShotChatMessagePromptTemplate(\n",
    "    example_prompt=proposition_prompt_example,\n",
    "    examples=proposition_examples\n",
    ")\n",
    "\n",
    "#System prompt\n",
    "\n",
    "system_prompt = \"\"\"Break down the given document into simple, self-contained propositions. Ensure that each proposition meets the following criteria:\n",
    "\n",
    "    1. Express a Single Fact: Each proposition should state one specific fact or claim.\n",
    "    2. Be Understandable Without Context: The proposition should be self-contained, meaning it can be understood without needing additional context.\n",
    "    3. Use Full Names, Not Pronouns: Avoid pronouns or ambiguous references; use full entity names.\n",
    "    4. Include Relevant Dates/Qualifiers: If applicable, include necessary dates, times, and qualifiers to make the fact precise.\n",
    "    5. Contain One Subject-Predicate Relationship: Focus on a single subject and its corresponding action or attribute, without conjunctions or multiple clauses.\n",
    "    \n",
    "    Use the few shot prompting examples given to generate the propositions\n",
    "    \"\"\"\n",
    "\n",
    "prompt = ChatPromptTemplate.from_messages(\n",
    "    [\n",
    "        ('system',system_prompt),\n",
    "        (few_shot_prompt),\n",
    "        ('human','{document}')\n",
    "    ]\n",
    ")\n",
    "\n",
    "proposition_generator = prompt | structured_llm\n"
   ]
  },
  {
   "cell_type": "code",
   "execution_count": 31,
   "metadata": {},
   "outputs": [
    {
     "name": "stdout",
     "output_type": "stream",
     "text": [
      "Entered\n",
      "Entered\n",
      "Entered\n",
      "Entered\n",
      "Entered\n",
      "Entered\n",
      "Entered\n",
      "Entered\n",
      "Entered\n",
      "Entered\n",
      "Entered\n",
      "Entered\n",
      "Entered\n",
      "Entered\n",
      "Entered\n",
      "Entered\n",
      "Entered\n",
      "Entered\n",
      "Entered\n",
      "Entered\n",
      "Entered\n"
     ]
    }
   ],
   "source": [
    "propositions_list = []  #store all propositions in this list\n",
    "\n",
    "for i in range(len(docs_splitted)):\n",
    "    print(\"Entered\")\n",
    "    response = proposition_generator.invoke({'document':docs_splitted[i].page_content})\n",
    "    for prop in response.propositions:\n",
    "        propositions_list.append(Document(page_content=prop,metadata={\"Title\": \"Paul Graham's Founder Mode Essay\", \"Source\": \"https://www.perplexity.ai/page/paul-graham-s-founder-mode-ess-t9TCyvkqRiyMQJWsHr0fnQ\", \"chunk_id\": i+1}))\n",
    "        "
   ]
  },
  {
   "cell_type": "code",
   "execution_count": 47,
   "metadata": {},
   "outputs": [
    {
     "data": {
      "text/plain": [
       "82"
      ]
     },
     "execution_count": 47,
     "metadata": {},
     "output_type": "execute_result"
    }
   ],
   "source": [
    "len(propositions_list)"
   ]
  },
  {
   "cell_type": "markdown",
   "metadata": {},
   "source": [
    "### Quality Check"
   ]
  },
  {
   "cell_type": "code",
   "execution_count": 34,
   "metadata": {},
   "outputs": [],
   "source": [
    "#Schema for llm output\n",
    "class GradePropositions(BaseModel):\n",
    "    \"\"\" Grade a given proposition on accuracy, clarity, completeness and conciseness\"\"\"\n",
    "    accuracy : int = Field(\n",
    "        description=\"Rate from 1-10 based on how well the proposition reflect the orignal text\"\n",
    "    )\n",
    "\n",
    "    clarity : int = Field(\n",
    "        description=\"Rate from 1-10 based on how easy it is to understand the proposition without additional context.\"\n",
    "    )\n",
    "\n",
    "    completeness : int = Field(\n",
    "        description = \"Rate from 1-10 based on whether the proposition includes necessary details (e.g., dates, qualifiers).\"\n",
    "    )\n",
    "\n",
    "    conciseness : int = Field(\n",
    "        description = \"Rate from 1-10 based on whether the proposition is concise without losing important information.\"\n",
    "    )\n",
    "\n"
   ]
  },
  {
   "cell_type": "code",
   "execution_count": 35,
   "metadata": {},
   "outputs": [],
   "source": [
    "#LLM for fucntion call\n",
    "llm=ChatGroq(groq_api_key=groq_api_key,model_name=\"Llama3-8b-8192\")\n",
    "structured_llm = llm.with_structured_output(GradePropositions)\n",
    "\n",
    "#Evaluation prompt\n",
    "evaluation_system_prompt = \"\"\"Please evaluate the following proposition based on the criteria below:\n",
    "- **Accuracy**: Rate from 1-10 based on how well the proposition reflects the original text.\n",
    "- **Clarity**: Rate from 1-10 based on how easy it is to understand the proposition without additional context.\n",
    "- **Completeness**: Rate from 1-10 based on whether the proposition includes necessary details (e.g., dates, qualifiers).\n",
    "- **Conciseness**: Rate from 1-10 based on whether the proposition is concise without losing important information.\n",
    "\n",
    "Example:\n",
    "Docs: In 1969, Neil Armstrong became the first person to walk on the Moon during the Apollo 11 mission.\n",
    "\n",
    "Propositons_1: Neil Armstrong was an astronaut.\n",
    "Evaluation_1: \"accuracy\": 10, \"clarity\": 10, \"completeness\": 10, \"conciseness\": 10\n",
    "\n",
    "Propositons_2: Neil Armstrong walked on the Moon in 1969.\n",
    "Evaluation_3: \"accuracy\": 10, \"clarity\": 10, \"completeness\": 10, \"conciseness\": 10\n",
    "\n",
    "Propositons_3: Neil Armstrong was the first person to walk on the Moon.\n",
    "Evaluation_3: \"accuracy\": 10, \"clarity\": 10, \"completeness\": 10, \"conciseness\": 10\n",
    "\n",
    "Propositons_4: Neil Armstrong walked on the Moon during the Apollo 11 mission.\n",
    "Evaluation_4: \"accuracy\": 10, \"clarity\": 10, \"completeness\": 10, \"conciseness\": 10\n",
    "\n",
    "Propositons_5: The Apollo 11 mission occurred in 1969.\n",
    "Evaluation_5: \"accuracy\": 10, \"clarity\": 10, \"completeness\": 10, \"conciseness\": 10\n",
    "\n",
    "Format:\n",
    "Proposition: \"{proposition}\"\n",
    "Original Text: \"{original_text}\"\n",
    "\"\"\"\n",
    "\n",
    "prompt = ChatPromptTemplate.from_messages(\n",
    "    [\n",
    "        ('system',evaluation_system_prompt),\n",
    "        ('user','{proposition}, {original_text}')\n",
    "    ]\n",
    ")\n",
    "\n",
    "proposition_evaluator = prompt | structured_llm"
   ]
  },
  {
   "cell_type": "code",
   "execution_count": 44,
   "metadata": {},
   "outputs": [
    {
     "name": "stdout",
     "output_type": "stream",
     "text": [
      "5 Propositions Fail : They maintain a unique management style. \n",
      " {'accuracy': 8, 'clarity': 9, 'completeness': 9, 'conciseness': 6}\n",
      "6 Propositions Fail : They do not adopt traditional corporate practices. \n",
      " {'accuracy': 0, 'clarity': 0, 'completeness': 0, 'conciseness': 0}\n",
      "7 Propositions Fail : Their companies grow. \n",
      " {'accuracy': 8, 'clarity': 6, 'completeness': 7, 'conciseness': 5}\n",
      "8 Propositions Fail : Their management style remains unique as their companies grow. \n",
      " {'accuracy': 10, 'clarity': 10, 'completeness': 10, 'conciseness': 5}\n",
      "19 Propositions Fail : \"Mode\" is not yet fully documented. \n",
      " {'accuracy': 5, 'clarity': 7, 'completeness': 8, 'conciseness': 6}\n",
      "20 Propositions Fail : \"Manager mode\" is a conventional paradigm. \n",
      " {'accuracy': 8, 'clarity': 7, 'completeness': 8, 'conciseness': 6}\n",
      "21 Propositions Fail : Business schools often advise \"manager mode\". \n",
      " {'accuracy': 7, 'clarity': 8, 'completeness': 6, 'conciseness': 4}\n",
      "23 Propositions Fail : Business schools advise. \n",
      " {'accuracy': 5, 'clarity': 6, 'completeness': 7, 'conciseness': 5}\n",
      "24 Propositions Fail : Professional managers advise. \n",
      " {'accuracy': 8, 'clarity': 7, 'completeness': 9, 'conciseness': 6}\n",
      "29 Propositions Fail : Graham suggests that founders should leverage their strengths. \n",
      " {'accuracy': 8, 'clarity': 6, 'completeness': 7, 'conciseness': 4}\n",
      "32 Propositions Fail : \"Founder Mode\" is not yet fully understood. \n",
      " {'accuracy': 5, 'clarity': 8, 'completeness': 7, 'conciseness': 6}\n",
      "33 Propositions Fail : The paradigm is not yet fully understood or documented. \n",
      " {'accuracy': 5, 'clarity': 7, 'completeness': 6, 'conciseness': 4}\n",
      "34 Propositions Fail : Graham hopes that the paradigm will become as well-understood as the traditional manager mode over time. \n",
      " {'accuracy': 5, 'clarity': 7, 'completeness': 8, 'conciseness': 6}\n",
      "35 Propositions Fail : Founders aim to maintain their status in the paradigm. \n",
      " {'accuracy': 3, 'clarity': 8, 'completeness': 6, 'conciseness': 5}\n",
      "42 Propositions Fail : Scaling startups must adapt their products or services to a broader market. \n",
      " {'accuracy': 5, 'clarity': 6, 'completeness': 4, 'conciseness': 7}\n",
      "44 Propositions Fail : Scaling startups often need to develop new partnerships and business relationships. \n",
      " {'accuracy': 5, 'clarity': 8, 'completeness': 7, 'conciseness': 6}\n",
      "45 Propositions Fail : Startups often grow. \n",
      " {'accuracy': 5, 'clarity': 8, 'completeness': 6, 'conciseness': 4}\n",
      "49 Propositions Fail : Transition can be problematic. \n",
      " {'accuracy': 8, 'clarity': 7, 'completeness': 9, 'conciseness': 6}\n",
      "55 Propositions Fail : Following the advice led to poor outcomes for Airbnb. \n",
      " {'accuracy': 6, 'clarity': 8, 'completeness': 9, 'conciseness': 7}\n",
      "57 Propositions Fail : He found success by adopting a different approach. \n",
      " {'accuracy': 8, 'clarity': 6, 'completeness': 4, 'conciseness': 7}\n",
      "65 Propositions Fail : Steve Jobs' management style included fostering a culture of innovation at Apple Inc. \n",
      " {'accuracy': 5, 'clarity': 5, 'completeness': 5, 'conciseness': 5}\n",
      "66 Propositions Fail : Steve Jobs managed Apple. \n",
      " {'accuracy': 5, 'clarity': 8, 'completeness': 7, 'conciseness': 6}\n",
      "71 Propositions Fail : The list includes the 100 most important people at Apple. \n",
      " {'accuracy': 10, 'clarity': 5, 'completeness': 5, 'conciseness': 5}\n",
      "77 Propositions Fail : Hierarchical levels are present in companies. \n",
      " {'accuracy': 8, 'clarity': 7, 'completeness': 9, 'conciseness': 6}\n",
      "78 Propositions Fail : Founders are encouraged to stay deeply involved in their companies' operations. \n",
      " {'accuracy': 5, 'clarity': 8, 'completeness': 7, 'conciseness': 6}\n",
      "82 Propositions Fail : Professional managers are often tasked with responsibilities in scaling companies. \n",
      " {'accuracy': 5, 'clarity': 8, 'completeness': 6, 'conciseness': 7}\n"
     ]
    }
   ],
   "source": [
    "#Define evaluation categories and thresholds\n",
    "evaluation_categories = [\"accuracy\", \"clarity\", \"completeness\", \"conciseness\"]\n",
    "thresholds = {\"accuracy\": 7, \"clarity\": 7, \"completeness\": 7, \"conciseness\": 7}\n",
    "\n",
    "#Function to evaluate propositions\n",
    "def evaluate_propositions(original_text,proposition):\n",
    "    response = proposition_evaluator.invoke({'original_text':original_text,'proposition':proposition})\n",
    "\n",
    "    #parse the response to have the scores\n",
    "    scores = {\n",
    "        \"accuracy\":response.accuracy,\n",
    "        \"clarity\": response.clarity, \n",
    "        \"completeness\": response.completeness, \n",
    "        \"conciseness\": response.conciseness\n",
    "    }\n",
    "\n",
    "    return scores\n",
    "\n",
    "# define function to check if proposition pass or not\n",
    "def quality_check(scores):\n",
    "    for category,score in scores.items():\n",
    "        if score < thresholds[category]:\n",
    "            return False\n",
    "    return True\n",
    "\n",
    "evaluated_propositions = []\n",
    "\n",
    "#Evaluate each proposition through loop\n",
    "for id, proposition in enumerate(propositions_list):\n",
    "    scores = evaluate_propositions(docs_splitted[proposition.metadata['chunk_id'] - 1].page_content, proposition.page_content)\n",
    "    if quality_check(scores):\n",
    "        #proposition pass quality check, keep it\n",
    "        evaluated_propositions.append(proposition)\n",
    "    else:\n",
    "        #proposition fail quality check, disregard it\n",
    "        print(f\"{id+1} Propositions Fail : {proposition.page_content} \\n {scores}\")\n",
    "\n",
    "\n"
   ]
  },
  {
   "cell_type": "code",
   "execution_count": 46,
   "metadata": {},
   "outputs": [
    {
     "data": {
      "text/plain": [
       "56"
      ]
     },
     "execution_count": 46,
     "metadata": {},
     "output_type": "execute_result"
    }
   ],
   "source": [
    "len(evaluated_propositions)"
   ]
  },
  {
   "cell_type": "markdown",
   "metadata": {},
   "source": [
    "### Embedding propositions into vectorstore"
   ]
  },
  {
   "cell_type": "code",
   "execution_count": 48,
   "metadata": {},
   "outputs": [
    {
     "name": "stderr",
     "output_type": "stream",
     "text": [
      "c:\\Users\\sunny\\Desktop\\Langchain_projects\\Q&A_chatbot\\venv\\lib\\site-packages\\tqdm\\auto.py:21: TqdmWarning: IProgress not found. Please update jupyter and ipywidgets. See https://ipywidgets.readthedocs.io/en/stable/user_install.html\n",
      "  from .autonotebook import tqdm as notebook_tqdm\n"
     ]
    }
   ],
   "source": [
    "#Embeddings\n",
    "embeddings=HuggingFaceEmbeddings(model_name=\"all-MiniLM-L6-v2\")\n",
    "from langchain.vectorstores import FAISS\n",
    "vectorstore = FAISS.from_documents(evaluated_propositions,embeddings)\n",
    "\n",
    "#Retriever\n",
    "retriever = vectorstore.as_retriever(\n",
    "    search_type = \"similarity\",\n",
    "    search_kwargs = {\"k\":4}\n",
    ")"
   ]
  },
  {
   "cell_type": "code",
   "execution_count": 49,
   "metadata": {},
   "outputs": [],
   "source": [
    "query = \"Who's management approach served as inspiartion for Brian Chesky's \\\"Founder Mode\\\" at Airbnb?\"\n",
    "retrieved_docs = retriever.invoke(query)"
   ]
  },
  {
   "cell_type": "code",
   "execution_count": 51,
   "metadata": {},
   "outputs": [
    {
     "name": "stdout",
     "output_type": "stream",
     "text": [
      "1) Content: Brian Chesky adopted a \"Founder Mode\" at Airbnb. --- chunk id : 17\n",
      "2) Content: Brian Chesky is a co-founder of Airbnb. --- chunk id : 14\n",
      "3) Content: Brian Chesky was advised to run Airbnb in a traditional managerial style. --- chunk id : 14\n",
      "4) Content: Steve Jobs' management approach inspired Brian Chesky. --- chunk id : 17\n"
     ]
    }
   ],
   "source": [
    "for i, r in enumerate(retrieved_docs):\n",
    "    print(f\"{i+1}) Content: {r.page_content} --- chunk id : {r.metadata['chunk_id']}\")"
   ]
  },
  {
   "cell_type": "markdown",
   "metadata": {},
   "source": [
    "### Comparing performance with larger chunk size"
   ]
  },
  {
   "cell_type": "code",
   "execution_count": 52,
   "metadata": {},
   "outputs": [],
   "source": [
    "vectorstore_larger = FAISS.from_documents(docs_splitted,embeddings)\n",
    "\n",
    "#Retriever\n",
    "retriever_larger = vectorstore_larger.as_retriever(\n",
    "    search_type = \"similarity\",\n",
    "    search_kwargs = {\"k\":4}\n",
    ")"
   ]
  },
  {
   "cell_type": "code",
   "execution_count": 53,
   "metadata": {},
   "outputs": [],
   "source": [
    "retrieved_docs_large = retriever_larger.invoke(query)"
   ]
  },
  {
   "cell_type": "code",
   "execution_count": 54,
   "metadata": {},
   "outputs": [
    {
     "name": "stdout",
     "output_type": "stream",
     "text": [
      "1) Content: Brian Chesky, co-founder of Airbnb, shared his experience of being advised to run the company in a traditional managerial style, which led to poor outcomes. He eventually found success by adopting a --- chunk id : 14\n",
      "2) Content: Steve Jobs' management approach at Apple served as inspiration for Brian Chesky's \"Founder Mode\" at Airbnb. One notable practice was Jobs' annual retreat for the 100 most important people at Apple, --- chunk id : 17\n",
      "3) Content: manager mode, allowing founders to maintain their unique approach even as their companies scale. --- chunk id : 10\n",
      "4) Content: This approach, suitable for established companies, can be detrimental to startups where the founder's vision and direct involvement are crucial. \"Founder Mode\" is presented as an emerging paradigm --- chunk id : 4\n"
     ]
    }
   ],
   "source": [
    "for i, r in enumerate(retrieved_docs_large):\n",
    "    print(f\"{i+1}) Content: {r.page_content} --- chunk id : {r.metadata['chunk_id']}\")"
   ]
  },
  {
   "cell_type": "markdown",
   "metadata": {},
   "source": [
    "### Testing"
   ]
  },
  {
   "cell_type": "markdown",
   "metadata": {},
   "source": [
    "#### Test-1"
   ]
  },
  {
   "cell_type": "code",
   "execution_count": 55,
   "metadata": {},
   "outputs": [],
   "source": [
    "test_query_1 = \"what is the essay \\\"Founder Mode\\\" about?\"\n",
    "retrieved_proposition = retriever.invoke(test_query_1)\n",
    "retrived_larger = retriever_larger.invoke(test_query_1)"
   ]
  },
  {
   "cell_type": "code",
   "execution_count": 56,
   "metadata": {},
   "outputs": [
    {
     "name": "stdout",
     "output_type": "stream",
     "text": [
      "1) Content: \"Founder Mode\" is an emerging paradigm. --- chunk id : 4\n",
      "2) Content: \"Founder Mode\" is an emerging paradigm. --- chunk id : 8\n",
      "3) Content: Paul Graham wrote the essay \"Founder Mode\". --- chunk id : 1\n",
      "4) Content: Paul Graham's essay \"Founder Mode\" challenges conventional wisdom about scaling startups. --- chunk id : 1\n"
     ]
    }
   ],
   "source": [
    "for i, r in enumerate(retrieved_proposition):\n",
    "    print(f\"{i+1}) Content: {r.page_content} --- chunk id : {r.metadata['chunk_id']}\")"
   ]
  },
  {
   "cell_type": "code",
   "execution_count": 57,
   "metadata": {},
   "outputs": [
    {
     "name": "stdout",
     "output_type": "stream",
     "text": [
      "1) Content: This approach, suitable for established companies, can be detrimental to startups where the founder's vision and direct involvement are crucial. \"Founder Mode\" is presented as an emerging paradigm --- chunk id : 4\n",
      "2) Content: Graham suggests that founders should leverage these strengths rather than conform to traditional managerial practices. \"Founder Mode\" is an emerging paradigm that is not yet fully understood or --- chunk id : 8\n",
      "3) Content: Paul Graham's essay \"Founder Mode,\" published in September 2024, challenges conventional wisdom about scaling startups, arguing that founders should maintain their unique management style rather than --- chunk id : 1\n",
      "4) Content: Conventional Wisdom vs. Founder Mode\n",
      "The essay argues that the traditional advice given to growing companies—hiring good people and giving them autonomy—often fails when applied to startups. --- chunk id : 3\n"
     ]
    }
   ],
   "source": [
    "for i, r in enumerate(retrived_larger):\n",
    "    print(f\"{i+1}) Content: {r.page_content} --- chunk id : {r.metadata['chunk_id']}\")"
   ]
  },
  {
   "cell_type": "markdown",
   "metadata": {},
   "source": [
    "#### Test-2"
   ]
  },
  {
   "cell_type": "code",
   "execution_count": 58,
   "metadata": {},
   "outputs": [],
   "source": [
    "test_query_2 = \"who is the co-founder of Airbnb?\"\n",
    "retrieved_proposition = retriever.invoke(test_query_2)\n",
    "retrived_larger = retriever_larger.invoke(test_query_2)"
   ]
  },
  {
   "cell_type": "code",
   "execution_count": 59,
   "metadata": {},
   "outputs": [
    {
     "name": "stdout",
     "output_type": "stream",
     "text": [
      "1) Content: Brian Chesky is a co-founder of Airbnb. --- chunk id : 14\n",
      "2) Content: Brian Chesky adopted a \"Founder Mode\" at Airbnb. --- chunk id : 17\n",
      "3) Content: Brian Chesky was advised to run Airbnb in a traditional managerial style. --- chunk id : 14\n",
      "4) Content: In startups, the founder's direct involvement is crucial. --- chunk id : 4\n"
     ]
    }
   ],
   "source": [
    "for i, r in enumerate(retrieved_proposition):\n",
    "    print(f\"{i+1}) Content: {r.page_content} --- chunk id : {r.metadata['chunk_id']}\")"
   ]
  },
  {
   "cell_type": "code",
   "execution_count": 60,
   "metadata": {},
   "outputs": [
    {
     "name": "stdout",
     "output_type": "stream",
     "text": [
      "1) Content: Brian Chesky, co-founder of Airbnb, shared his experience of being advised to run the company in a traditional managerial style, which led to poor outcomes. He eventually found success by adopting a --- chunk id : 14\n",
      "2) Content: Steve Jobs' management approach at Apple served as inspiration for Brian Chesky's \"Founder Mode\" at Airbnb. One notable practice was Jobs' annual retreat for the 100 most important people at Apple, --- chunk id : 17\n",
      "3) Content: This approach, suitable for established companies, can be detrimental to startups where the founder's vision and direct involvement are crucial. \"Founder Mode\" is presented as an emerging paradigm --- chunk id : 4\n",
      "4) Content: Unique Founder Abilities\n",
      "Founders possess unique insights and abilities that professional managers do not, primarily because they have a deep understanding of their company's vision and culture. --- chunk id : 7\n"
     ]
    }
   ],
   "source": [
    "for i, r in enumerate(retrived_larger):\n",
    "    print(f\"{i+1}) Content: {r.page_content} --- chunk id : {r.metadata['chunk_id']}\")"
   ]
  }
 ],
 "metadata": {
  "kernelspec": {
   "display_name": "Python 3.10.0",
   "language": "python",
   "name": "python3"
  },
  "language_info": {
   "codemirror_mode": {
    "name": "ipython",
    "version": 3
   },
   "file_extension": ".py",
   "mimetype": "text/x-python",
   "name": "python",
   "nbconvert_exporter": "python",
   "pygments_lexer": "ipython3",
   "version": "3.10.0"
  },
  "orig_nbformat": 4,
  "vscode": {
   "interpreter": {
    "hash": "12ab9b366ad6c6c880fffbd1a9e1c0ba9825d2f9bd67635de77c6498f87926fd"
   }
  }
 },
 "nbformat": 4,
 "nbformat_minor": 2
}
